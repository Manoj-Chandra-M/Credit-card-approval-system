{
  "nbformat": 4,
  "nbformat_minor": 0,
  "metadata": {
    "colab": {
      "provenance": []
    },
    "kernelspec": {
      "name": "python3",
      "display_name": "Python 3"
    },
    "language_info": {
      "name": "python"
    }
  },
  "cells": [
    {
      "cell_type": "code",
      "source": [
        "from mage_ai.settings.repo import get_repo_path\n",
        "from mage_ai.io.bigquery import BigQuery\n",
        "from mage_ai.io.config import ConfigFileLoader\n",
        "from pandas import DataFrame\n",
        "from os import path\n",
        "\n",
        "if 'data_exporter' not in globals():\n",
        "    from mage_ai.data_preparation.decorators import data_exporter\n",
        "\n",
        "\n",
        "@data_exporter\n",
        "def export_data_to_big_query(data, **kwargs) -> None:\n",
        "    \"\"\"\n",
        "    Template for exporting data to a BigQuery warehouse.\n",
        "    Specify your configuration settings in 'io_config.yaml'.\n",
        "\n",
        "    Docs: https://docs.mage.ai/design/data-loading#bigquery\n",
        "    \"\"\"\n",
        "    table_id = 'fraud-detection-405823.fraud_detection_project_manoj.fact_table'\n",
        "    config_path = path.join(get_repo_path(), 'io_config.yaml')\n",
        "    config_profile = 'default'\n",
        "\n",
        "    BigQuery.with_config(ConfigFileLoader(config_path, config_profile)).export(\n",
        "        data,\n",
        "        table_id,\n",
        "        if_exists='replace',  # Specify resolution policy if table name already exists\n",
        "    )\n"
      ],
      "metadata": {
        "id": "1uuxKobjlGny"
      },
      "execution_count": null,
      "outputs": []
    }
  ]
}